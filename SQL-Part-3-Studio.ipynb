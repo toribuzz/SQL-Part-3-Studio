{
    "metadata": {
        "kernelspec": {
            "name": "SQL",
            "display_name": "SQL",
            "language": "sql"
        },
        "language_info": {
            "name": "sql",
            "version": ""
        },
        "extensions": {
            "azuredatastudio": {
                "version": 1,
                "views": []
            }
        }
    },
    "nbformat_minor": 2,
    "nbformat": 4,
    "cells": [
        {
            "cell_type": "markdown",
            "source": [
                "# SQL Part 3 Studio\n",
                "\n",
                "### Let's practice your SQL quering skills!  For each question, work along in the notebook adding your query and answering the questions. \n",
                "\n",
                "### **DataSet**\n",
                "\n",
                "### <span style=\"font-size: 14px; font-family: -apple-system, BlinkMacSystemFont, sans-serif;\">We will be using the Goodbooks-10k dataset from the exercises in the prep work.&nbsp; Feel free reference your previous notebooks.</span>\n",
                "\n",
                "- The dataset can be found here: [goodbooks-10k](https://www.kaggle.com/zygmunt/goodbooks-10k)\n",
                "- You can access the **BooksDB** in the Launchcode server.\n",
                "\n",
                "### **Business Issue**\n",
                "\n",
                "You are an employee at a small independet bookstore and you have been tasked to increase sales.  You decide to use the BooksDB to find books and themes to highlight in fun promotions throughout each month / season.  We will be starting with March and then you will have a chance to explore another month of your choosing.  We want to come up with a list of events/ promotions to run each month.  If you are looking for ideas to include in your promotions:\n",
                "\n",
                "- [https://www.calendarr.com/united-states/calendar-2022/](https://www.calendarr.com/united-states/calendar-2022/)\n",
                "- [https://www.holidayinsights.com/moreholidays/](https://www.holidayinsights.com/moreholidays/)\n",
                "    - Click on a month and it will take you to a more detailed page"
            ],
            "metadata": {
                "azdata_cell_guid": "b9034d8a-b631-48bf-a895-1012a6ffa784"
            },
            "attachments": {}
        },
        {
            "cell_type": "markdown",
            "source": [
                "## Part 1:  March - Women's History Month, Dr Seuss Day(3/2), National Pie Day3/14, St Patrick's Day (3/17), Season - Spring"
            ],
            "metadata": {
                "azdata_cell_guid": "6e55eb1c-4a14-4076-90d2-95ed17a6309f"
            },
            "attachments": {}
        },
        {
            "cell_type": "markdown",
            "source": [
                "### **Event 1:** Women's History Month\n",
                "\n",
                "Goal: Highlight Popular Womans Authors based on ratings from the Good Reads DB.\n",
                "\n",
                "### **Write a query that returns tag\\_id, the number of times each tag\\_id is used and the tag\\_name.**  \n",
                "\n",
                "### Use the GROUP BY and HAVING clause to narrow your focus.\n",
                "\n",
                "Try multiple keywords, ie woman vs female (female ended up giving better results)"
            ],
            "metadata": {
                "azdata_cell_guid": "d220c097-e9cf-4edd-9abe-312d071217b7"
            },
            "attachments": {}
        },
        {
            "cell_type": "code",
            "source": [
                "/*\r\n",
                "USE BooksDB\r\n",
                "SELECT *\r\n",
                "FROM tags\r\n",
                "WHERE UPPER(tag_name) LIKE UPPER('%by-wom%') OR UPPER(tag_name) LIKE UPPER('%femal%')\r\n",
                "*/\r\n",
                "\r\n",
                "USE BooksDB\r\n",
                "SELECT COUNT(*) AS num_occurances, t.tag_name\r\n",
                "FROM book_tags as bt\r\n",
                "JOIN tags as t\r\n",
                "ON bt.tag_id = t.tag_id\r\n",
                "GROUP BY t.tag_name\r\n",
                "HAVING UPPER(t.tag_name) LIKE UPPER('%by-wom%') OR UPPER(t.tag_name) LIKE UPPER('%femal%')\r\n",
                ""
            ],
            "metadata": {
                "azdata_cell_guid": "e31b9d26-0386-44c7-828e-85f4f06f3ee6",
                "language": "sql",
                "tags": []
            },
            "outputs": [
                {
                    "output_type": "display_data",
                    "data": {
                        "text/html": "(38 rows affected)"
                    },
                    "metadata": {}
                },
                {
                    "output_type": "display_data",
                    "data": {
                        "text/html": "Total execution time: 00:03:07.359"
                    },
                    "metadata": {}
                },
                {
                    "output_type": "execute_result",
                    "metadata": {},
                    "execution_count": 12,
                    "data": {
                        "application/vnd.dataresource+json": {
                            "schema": {
                                "fields": [
                                    {
                                        "name": "num_occurances"
                                    },
                                    {
                                        "name": "tag_name"
                                    }
                                ]
                            },
                            "data": [
                                {
                                    "0": "18",
                                    "1": "female-writers"
                                },
                                {
                                    "0": "1",
                                    "1": "female-persuasion"
                                },
                                {
                                    "0": "4",
                                    "1": "by-women"
                                },
                                {
                                    "0": "1",
                                    "1": "afghan-female-entrepreneur-under-ta"
                                },
                                {
                                    "0": "1",
                                    "1": "protagonist-female"
                                },
                                {
                                    "0": "32",
                                    "1": "female-detective"
                                },
                                {
                                    "0": "17",
                                    "1": "female"
                                },
                                {
                                    "0": "1",
                                    "1": "strong-female-character"
                                },
                                {
                                    "0": "997",
                                    "1": "female-author"
                                },
                                {
                                    "0": "1",
                                    "1": "own-written-by-women"
                                },
                                {
                                    "0": "1",
                                    "1": "tbr-ax-female"
                                },
                                {
                                    "0": "171",
                                    "1": "female-protagonist"
                                },
                                {
                                    "0": "7",
                                    "1": "books-by-women"
                                },
                                {
                                    "0": "17",
                                    "1": "female-pov"
                                },
                                {
                                    "0": "4",
                                    "1": "female-friendship"
                                },
                                {
                                    "0": "1",
                                    "1": "female-povs"
                                },
                                {
                                    "0": "1",
                                    "1": "female-genre-authors"
                                },
                                {
                                    "0": "2",
                                    "1": "female-biographies"
                                },
                                {
                                    "0": "1",
                                    "1": "female-doctor"
                                },
                                {
                                    "0": "9",
                                    "1": "female-detectives"
                                },
                                {
                                    "0": "1",
                                    "1": "female-pi"
                                },
                                {
                                    "0": "1",
                                    "1": "female-main-character"
                                },
                                {
                                    "0": "10",
                                    "1": "strong-female-lead"
                                },
                                {
                                    "0": "1",
                                    "1": "kick-ass-female"
                                },
                                {
                                    "0": "12",
                                    "1": "author-female"
                                },
                                {
                                    "0": "1",
                                    "1": "female-serial-killer"
                                },
                                {
                                    "0": "4",
                                    "1": "strong-female"
                                },
                                {
                                    "0": "1",
                                    "1": "female-writer"
                                },
                                {
                                    "0": "721",
                                    "1": "female-authors"
                                },
                                {
                                    "0": "1",
                                    "1": "strong-female-protagonist"
                                },
                                {
                                    "0": "1",
                                    "1": "female-fiction"
                                },
                                {
                                    "0": "1",
                                    "1": "important-female-authors"
                                },
                                {
                                    "0": "1",
                                    "1": "female-spy"
                                },
                                {
                                    "0": "14",
                                    "1": "female-lead"
                                },
                                {
                                    "0": "3",
                                    "1": "strong-female-characters"
                                },
                                {
                                    "0": "1",
                                    "1": "strong-female-supporting-characters"
                                },
                                {
                                    "0": "1",
                                    "1": "strong-female-character-s"
                                },
                                {
                                    "0": "1",
                                    "1": "best-adult-female-friendship-books"
                                }
                            ]
                        },
                        "text/html": [
                            "<table>",
                            "<tr><th>num_occurances</th><th>tag_name</th></tr>",
                            "<tr><td>18</td><td>female-writers</td></tr>",
                            "<tr><td>1</td><td>female-persuasion</td></tr>",
                            "<tr><td>4</td><td>by-women</td></tr>",
                            "<tr><td>1</td><td>afghan-female-entrepreneur-under-ta</td></tr>",
                            "<tr><td>1</td><td>protagonist-female</td></tr>",
                            "<tr><td>32</td><td>female-detective</td></tr>",
                            "<tr><td>17</td><td>female</td></tr>",
                            "<tr><td>1</td><td>strong-female-character</td></tr>",
                            "<tr><td>997</td><td>female-author</td></tr>",
                            "<tr><td>1</td><td>own-written-by-women</td></tr>",
                            "<tr><td>1</td><td>tbr-ax-female</td></tr>",
                            "<tr><td>171</td><td>female-protagonist</td></tr>",
                            "<tr><td>7</td><td>books-by-women</td></tr>",
                            "<tr><td>17</td><td>female-pov</td></tr>",
                            "<tr><td>4</td><td>female-friendship</td></tr>",
                            "<tr><td>1</td><td>female-povs</td></tr>",
                            "<tr><td>1</td><td>female-genre-authors</td></tr>",
                            "<tr><td>2</td><td>female-biographies</td></tr>",
                            "<tr><td>1</td><td>female-doctor</td></tr>",
                            "<tr><td>9</td><td>female-detectives</td></tr>",
                            "<tr><td>1</td><td>female-pi</td></tr>",
                            "<tr><td>1</td><td>female-main-character</td></tr>",
                            "<tr><td>10</td><td>strong-female-lead</td></tr>",
                            "<tr><td>1</td><td>kick-ass-female</td></tr>",
                            "<tr><td>12</td><td>author-female</td></tr>",
                            "<tr><td>1</td><td>female-serial-killer</td></tr>",
                            "<tr><td>4</td><td>strong-female</td></tr>",
                            "<tr><td>1</td><td>female-writer</td></tr>",
                            "<tr><td>721</td><td>female-authors</td></tr>",
                            "<tr><td>1</td><td>strong-female-protagonist</td></tr>",
                            "<tr><td>1</td><td>female-fiction</td></tr>",
                            "<tr><td>1</td><td>important-female-authors</td></tr>",
                            "<tr><td>1</td><td>female-spy</td></tr>",
                            "<tr><td>14</td><td>female-lead</td></tr>",
                            "<tr><td>3</td><td>strong-female-characters</td></tr>",
                            "<tr><td>1</td><td>strong-female-supporting-characters</td></tr>",
                            "<tr><td>1</td><td>strong-female-character-s</td></tr>",
                            "<tr><td>1</td><td>best-adult-female-friendship-books</td></tr>",
                            "</table>"
                        ]
                    }
                }
            ],
            "execution_count": 12
        },
        {
            "cell_type": "markdown",
            "source": [
                "### **Which keyword(s) and tag(s) would you like to explore more?**\n",
                "\n",
                "Double click to edit."
            ],
            "metadata": {
                "azdata_cell_guid": "e9acd8b5-a62b-4ac0-bd07-19915b379ba6"
            },
            "attachments": {}
        },
        {
            "cell_type": "markdown",
            "source": [
                "### **Write a query to return authors, titles, ratings and** **selected tag(s)\\_id.**"
            ],
            "metadata": {
                "azdata_cell_guid": "59b84464-c0bc-4dac-9e02-0c803765b063"
            },
            "attachments": {}
        },
        {
            "cell_type": "code",
            "source": [
                "USE BooksDB\r\n",
                "SELECT DISTINCT b.authors, b.title, b.average_rating, bt.tag_id\r\n",
                "FROM books as b\r\n",
                "INNER JOIN book_tags as bt\r\n",
                "ON bt.tag_id = bt.goodreads_book_id\r\n",
                "WHERE bt.tag_id IN (3514,11644,11661,11662)\r\n",
                "ORDER BY b.average_rating DESC\r\n",
                "\r\n",
                ""
            ],
            "metadata": {
                "azdata_cell_guid": "51ffeaaf-6dde-4906-95f3-eb8757babf27",
                "tags": [],
                "language": "sql"
            },
            "outputs": [
                {
                    "output_type": "display_data",
                    "data": {
                        "text/html": "(0 rows affected)"
                    },
                    "metadata": {}
                },
                {
                    "output_type": "display_data",
                    "data": {
                        "text/html": "Total execution time: 00:03:58.207"
                    },
                    "metadata": {}
                },
                {
                    "output_type": "execute_result",
                    "metadata": {},
                    "execution_count": 14,
                    "data": {
                        "application/vnd.dataresource+json": {
                            "schema": {
                                "fields": [
                                    {
                                        "name": "authors"
                                    },
                                    {
                                        "name": "title"
                                    },
                                    {
                                        "name": "average_rating"
                                    },
                                    {
                                        "name": "tag_id"
                                    }
                                ]
                            },
                            "data": []
                        },
                        "text/html": [
                            "<table>",
                            "<tr><th>authors</th><th>title</th><th>average_rating</th><th>tag_id</th></tr>",
                            "</table>"
                        ]
                    }
                }
            ],
            "execution_count": 14
        },
        {
            "cell_type": "markdown",
            "source": [
                "### **Record your thoughts about why you wrote the query the way you did.**"
            ],
            "metadata": {
                "azdata_cell_guid": "1e19a72c-1bca-446b-a0c7-a8efbc35dcf1"
            },
            "attachments": {}
        },
        {
            "cell_type": "markdown",
            "source": [
                "# Part 2: Choose Another Month\n",
                "\n",
                "Choose another month and plan at least 2 events / promotions and answer the following questions.\n",
                "\n",
                "Which month did you choose?  \n",
                "\n",
                "What 2 events / promotions are you highlighting?\n",
                "\n",
                "> > 1.December\n",
                "\n",
                "> > 2.Christmas and Hanukkah"
            ],
            "metadata": {
                "azdata_cell_guid": "3eaf376d-9de3-4553-a9d0-9caf74ee3d6a"
            },
            "attachments": {}
        },
        {
            "cell_type": "markdown",
            "source": [
                "# Part 3: Summarize your Work\n",
                "\n",
                "For each event write at least one query that joins any two tables in the BooksDB to support your choice and record you thoughts as to why you used the paticlular query. At least one of your queries needs to include a HAVING clause."
            ],
            "metadata": {
                "azdata_cell_guid": "1ba1363a-4f02-4962-a95a-93b80c5926b1"
            },
            "attachments": {}
        },
        {
            "cell_type": "code",
            "source": [
                "-- Event 1 Query\r\n",
                "USE BooksDB\r\n",
                "SELECT COUNT(bt.goodreads_book_id) AS 'Counts of Books', t.tag_name\r\n",
                "FROM book_tags as bt \r\n",
                "INNER JOIN tags AS t\r\n",
                "ON bt.tag_id =  t.tag_id\r\n",
                "GROUP BY t.tag_name\r\n",
                "HAVING t.tag_name LIKE '%christmas%'"
            ],
            "metadata": {
                "azdata_cell_guid": "f50d32ce-4cb2-4af2-acb1-607777a76cf8",
                "language": "sql"
            },
            "outputs": [
                {
                    "output_type": "display_data",
                    "data": {
                        "text/html": "(32 rows affected)"
                    },
                    "metadata": {}
                },
                {
                    "output_type": "display_data",
                    "data": {
                        "text/html": "Total execution time: 00:01:38.933"
                    },
                    "metadata": {}
                },
                {
                    "output_type": "execute_result",
                    "metadata": {},
                    "execution_count": 17,
                    "data": {
                        "application/vnd.dataresource+json": {
                            "schema": {
                                "fields": [
                                    {
                                        "name": "Counts of Books"
                                    },
                                    {
                                        "name": "tag_name"
                                    }
                                ]
                            },
                            "data": [
                                {
                                    "0": "1",
                                    "1": "childrens-christmas-books"
                                },
                                {
                                    "0": "4",
                                    "1": "christmas-winter"
                                },
                                {
                                    "0": "1",
                                    "1": "christmas-childrens-books"
                                },
                                {
                                    "0": "2",
                                    "1": "christmas-story"
                                },
                                {
                                    "0": "20",
                                    "1": "christmas-stories"
                                },
                                {
                                    "0": "1",
                                    "1": "christmas-theme"
                                },
                                {
                                    "0": "2",
                                    "1": "christmas-2014"
                                },
                                {
                                    "0": "17",
                                    "1": "christmas-reads"
                                },
                                {
                                    "0": "3",
                                    "1": "christmas-reading"
                                },
                                {
                                    "0": "5",
                                    "1": "christmas-fiction"
                                },
                                {
                                    "0": "2",
                                    "1": "christmas-2016"
                                },
                                {
                                    "0": "2",
                                    "1": "to-read-christmas"
                                },
                                {
                                    "0": "1",
                                    "1": "christmas-book"
                                },
                                {
                                    "0": "1",
                                    "1": "christmas-new-year"
                                },
                                {
                                    "0": "2",
                                    "1": "christmas-holiday"
                                },
                                {
                                    "0": "1",
                                    "1": "holidays-christmas"
                                },
                                {
                                    "0": "2",
                                    "1": "christmas-to-read"
                                },
                                {
                                    "0": "1",
                                    "1": "christmas-children-s-books-i-own"
                                },
                                {
                                    "0": "1",
                                    "1": "christmas-wish-read-list"
                                },
                                {
                                    "0": "7",
                                    "1": "holiday-christmas"
                                },
                                {
                                    "0": "1",
                                    "1": "christmas-kids"
                                },
                                {
                                    "0": "1",
                                    "1": "christmas-books-i-have"
                                },
                                {
                                    "0": "1",
                                    "1": "christmas-hope-series"
                                },
                                {
                                    "0": "1",
                                    "1": "childrens-christmas"
                                },
                                {
                                    "0": "1",
                                    "1": "christmas-read"
                                },
                                {
                                    "0": "38",
                                    "1": "christmas-books"
                                },
                                {
                                    "0": "1",
                                    "1": "christmas-collection"
                                },
                                {
                                    "0": "1",
                                    "1": "christmas-hope"
                                },
                                {
                                    "0": "1",
                                    "1": "christmas-favorites"
                                },
                                {
                                    "0": "1",
                                    "1": "christmas-tbr"
                                },
                                {
                                    "0": "75",
                                    "1": "christmas"
                                },
                                {
                                    "0": "2",
                                    "1": "children-christmas"
                                }
                            ]
                        },
                        "text/html": [
                            "<table>",
                            "<tr><th>Counts of Books</th><th>tag_name</th></tr>",
                            "<tr><td>1</td><td>childrens-christmas-books</td></tr>",
                            "<tr><td>4</td><td>christmas-winter</td></tr>",
                            "<tr><td>1</td><td>christmas-childrens-books</td></tr>",
                            "<tr><td>2</td><td>christmas-story</td></tr>",
                            "<tr><td>20</td><td>christmas-stories</td></tr>",
                            "<tr><td>1</td><td>christmas-theme</td></tr>",
                            "<tr><td>2</td><td>christmas-2014</td></tr>",
                            "<tr><td>17</td><td>christmas-reads</td></tr>",
                            "<tr><td>3</td><td>christmas-reading</td></tr>",
                            "<tr><td>5</td><td>christmas-fiction</td></tr>",
                            "<tr><td>2</td><td>christmas-2016</td></tr>",
                            "<tr><td>2</td><td>to-read-christmas</td></tr>",
                            "<tr><td>1</td><td>christmas-book</td></tr>",
                            "<tr><td>1</td><td>christmas-new-year</td></tr>",
                            "<tr><td>2</td><td>christmas-holiday</td></tr>",
                            "<tr><td>1</td><td>holidays-christmas</td></tr>",
                            "<tr><td>2</td><td>christmas-to-read</td></tr>",
                            "<tr><td>1</td><td>christmas-children-s-books-i-own</td></tr>",
                            "<tr><td>1</td><td>christmas-wish-read-list</td></tr>",
                            "<tr><td>7</td><td>holiday-christmas</td></tr>",
                            "<tr><td>1</td><td>christmas-kids</td></tr>",
                            "<tr><td>1</td><td>christmas-books-i-have</td></tr>",
                            "<tr><td>1</td><td>christmas-hope-series</td></tr>",
                            "<tr><td>1</td><td>childrens-christmas</td></tr>",
                            "<tr><td>1</td><td>christmas-read</td></tr>",
                            "<tr><td>38</td><td>christmas-books</td></tr>",
                            "<tr><td>1</td><td>christmas-collection</td></tr>",
                            "<tr><td>1</td><td>christmas-hope</td></tr>",
                            "<tr><td>1</td><td>christmas-favorites</td></tr>",
                            "<tr><td>1</td><td>christmas-tbr</td></tr>",
                            "<tr><td>75</td><td>christmas</td></tr>",
                            "<tr><td>2</td><td>children-christmas</td></tr>",
                            "</table>"
                        ]
                    }
                }
            ],
            "execution_count": 17
        },
        {
            "cell_type": "code",
            "source": [
                ""
            ],
            "metadata": {
                "azdata_cell_guid": "5606f7f2-c46b-42d3-ac64-7ae21c3394f8",
                "language": "sql"
            },
            "outputs": [],
            "execution_count": null
        },
        {
            "cell_type": "markdown",
            "source": [
                "### **Summary of event 1:**\n",
                "\n",
                "Double Click to edit."
            ],
            "metadata": {
                "azdata_cell_guid": "3bc72d4c-077b-42d3-9528-9aff8e7b6cf3"
            },
            "attachments": {}
        },
        {
            "cell_type": "code",
            "source": [
                "-- Event 2 Query\r\n",
                "USE BooksDB\r\n",
                "SELECT COUNT(bt.goodreads_book_id) AS 'Counts of Books', t.tag_name\r\n",
                "FROM book_tags as bt \r\n",
                "INNER JOIN tags AS t\r\n",
                "ON bt.tag_id =  t.tag_id\r\n",
                "GROUP BY t.tag_name\r\n",
                "HAVING t.tag_name LIKE '%hanukkah%'"
            ],
            "metadata": {
                "azdata_cell_guid": "dca0a98f-065f-4b0e-9d93-fcb01cad668c",
                "language": "sql"
            },
            "outputs": [
                {
                    "output_type": "display_data",
                    "data": {
                        "text/html": "(0 rows affected)"
                    },
                    "metadata": {}
                },
                {
                    "output_type": "display_data",
                    "data": {
                        "text/html": "Total execution time: 00:02:53.261"
                    },
                    "metadata": {}
                },
                {
                    "output_type": "execute_result",
                    "metadata": {},
                    "execution_count": 18,
                    "data": {
                        "application/vnd.dataresource+json": {
                            "schema": {
                                "fields": [
                                    {
                                        "name": "Counts of Books"
                                    },
                                    {
                                        "name": "tag_name"
                                    }
                                ]
                            },
                            "data": []
                        },
                        "text/html": [
                            "<table>",
                            "<tr><th>Counts of Books</th><th>tag_name</th></tr>",
                            "</table>"
                        ]
                    }
                }
            ],
            "execution_count": 18
        },
        {
            "cell_type": "code",
            "source": [
                ""
            ],
            "metadata": {
                "azdata_cell_guid": "3aaae3a8-eff7-4b37-8970-2d913a67239b",
                "language": "sql"
            },
            "outputs": [],
            "execution_count": null
        },
        {
            "cell_type": "markdown",
            "source": [
                "### **Summary of event 2:**\n",
                "\n",
                "Double Click to edit."
            ],
            "metadata": {
                "azdata_cell_guid": "99d518dc-cd8b-42d6-9a9d-708771c9aa99"
            },
            "attachments": {}
        }
    ]
}